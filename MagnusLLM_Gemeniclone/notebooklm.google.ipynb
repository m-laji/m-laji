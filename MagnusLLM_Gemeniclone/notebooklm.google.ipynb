{
 "cells": [
  {
   "cell_type": "markdown",
   "id": "891b9bef",
   "metadata": {},
   "source": [
    "No released outside US - [notebooklm.google](https://notebooklm.google/?location=us-only)"
   ]
  },
  {
   "cell_type": "code",
   "execution_count": null,
   "id": "69451170",
   "metadata": {},
   "outputs": [],
   "source": []
  }
 ],
 "metadata": {
  "kernelspec": {
   "display_name": "Python 3 (ipykernel)",
   "language": "python",
   "name": "python3"
  },
  "language_info": {
   "codemirror_mode": {
    "name": "ipython",
    "version": 3
   },
   "file_extension": ".py",
   "mimetype": "text/x-python",
   "name": "python",
   "nbconvert_exporter": "python",
   "pygments_lexer": "ipython3",
   "version": "3.11.5"
  }
 },
 "nbformat": 4,
 "nbformat_minor": 5
}
